{
  "nbformat": 4,
  "nbformat_minor": 0,
  "metadata": {
    "colab": {
      "private_outputs": true,
      "provenance": []
    },
    "kernelspec": {
      "name": "python3",
      "display_name": "Python 3"
    },
    "language_info": {
      "name": "python"
    }
  },
  "cells": [
    {
      "cell_type": "code",
      "execution_count": null,
      "metadata": {
        "id": "nfBIbt-bXVxN"
      },
      "outputs": [],
      "source": [
        "%pip install -q \"openvino>=2023.1.0\""
      ]
    },
    {
      "cell_type": "code",
      "source": [
        "pip install rdkit-pypi"
      ],
      "metadata": {
        "id": "L8lzevYYX--c"
      },
      "execution_count": null,
      "outputs": []
    },
    {
      "cell_type": "code",
      "source": [
        "from rdkit import Chem\n",
        "from rdkit.Chem import AllChem\n",
        "from rdkit.Chem import PandasTools\n",
        "from rdkit import RDConfig\n",
        "import torch\n",
        "import torch.nn as nn\n",
        "import torch.optim as optim\n",
        "import numpy as np\n",
        "from sklearn.model_selection import train_test_split\n",
        "from sklearn.metrics import mean_squared_error\n",
        "import os\n",
        "import pandas as pd\n"
      ],
      "metadata": {
        "id": "G0eIOqqrYsTl"
      },
      "execution_count": null,
      "outputs": []
    },
    {
      "cell_type": "code",
      "source": [],
      "metadata": {
        "id": "44I8ZZXQcWkd"
      },
      "execution_count": null,
      "outputs": []
    },
    {
      "cell_type": "code",
      "source": [
        "# Replace 'path_to_file.tsv' with the actual file path\n",
        "file_path = 'logd74.tsv'\n",
        "\n",
        "# Load the dataset\n",
        "df = pd.read_csv(file_path, delimiter='\\t')"
      ],
      "metadata": {
        "id": "yU_vjDGwdZwe"
      },
      "execution_count": null,
      "outputs": []
    },
    {
      "cell_type": "code",
      "source": [
        "def smiles_to_fp(smiles, n_bits=2048):\n",
        "    mol = Chem.MolFromSmiles(smiles)\n",
        "    fp = AllChem.GetMorganFingerprintAsBitVect(mol, radius=2, nBits=n_bits)\n",
        "    return np.array(fp)\n",
        "\n",
        "df['fp'] = df['SMILES'].apply(smiles_to_fp)\n"
      ],
      "metadata": {
        "id": "JBRitHQ6du_A"
      },
      "execution_count": null,
      "outputs": []
    },
    {
      "cell_type": "code",
      "source": [
        "X = np.array(list(df['fp']))\n",
        "y = df['logD7.4'].values\n",
        "X_train, X_test, y_train, y_test = train_test_split(X, y, test_size=0.2, random_state=42)\n"
      ],
      "metadata": {
        "id": "6abIKXvid9GK"
      },
      "execution_count": null,
      "outputs": []
    },
    {
      "cell_type": "code",
      "source": [
        "class Net(nn.Module):\n",
        "    def __init__(self):\n",
        "        super(Net, self).__init__()\n",
        "        self.fc1 = nn.Linear(2048, 1024)\n",
        "        self.fc2 = nn.Linear(1024, 512)\n",
        "        self.fc3 = nn.Linear(512, 1)\n",
        "\n",
        "    def forward(self, x):\n",
        "        x = torch.relu(self.fc1(x))\n",
        "        x = torch.relu(self.fc2(x))\n",
        "        return self.fc3(x)\n",
        "\n",
        "model = Net()\n"
      ],
      "metadata": {
        "id": "uKmbW5kgeZZt"
      },
      "execution_count": null,
      "outputs": []
    },
    {
      "cell_type": "code",
      "source": [
        "optimizer = optim.Adam(model.parameters(), lr=0.001)\n",
        "criterion = nn.MSELoss()\n",
        "\n",
        "X_train_tensor = torch.tensor(X_train, dtype=torch.float32)\n",
        "y_train_tensor = torch.tensor(y_train, dtype=torch.float32)\n",
        "\n",
        "epochs = 100\n",
        "for epoch in range(epochs):\n",
        "    optimizer.zero_grad()\n",
        "    outputs = model(X_train_tensor)\n",
        "    loss = criterion(outputs.squeeze(), y_train_tensor)\n",
        "    loss.backward()\n",
        "    optimizer.step()\n",
        "    print(f'Epoch {epoch+1}/{epochs}, Loss: {loss.item()}')\n"
      ],
      "metadata": {
        "id": "VBWZW68QebjH"
      },
      "execution_count": null,
      "outputs": []
    },
    {
      "cell_type": "code",
      "source": [
        "X_test_tensor = torch.tensor(X_test, dtype=torch.float32)\n",
        "y_test_tensor = torch.tensor(y_test, dtype=torch.float32)\n",
        "\n",
        "with torch.no_grad():\n",
        "    predicted = model(X_test_tensor).squeeze()\n",
        "    mse = mean_squared_error(y_test_tensor, predicted)\n",
        "    print(f'Test MSE: {mse}')\n"
      ],
      "metadata": {
        "id": "SYQVUhUhfB0I"
      },
      "execution_count": null,
      "outputs": []
    },
    {
      "cell_type": "code",
      "source": [
        "torch.save(model.state_dict(), 'lipophilicity_model.pth')\n"
      ],
      "metadata": {
        "id": "foE4850QfLY6"
      },
      "execution_count": null,
      "outputs": []
    },
    {
      "cell_type": "code",
      "source": [
        "from rdkit.Chem import Draw\n",
        "\n",
        "mols = [Chem.MolFromSmiles(smiles) for smiles in df['SMILES'][:5]]\n",
        "img = Draw.MolsToImage(mols)\n",
        "img.show()\n"
      ],
      "metadata": {
        "id": "7lyzD3ASfWj-"
      },
      "execution_count": null,
      "outputs": []
    },
    {
      "cell_type": "code",
      "source": [
        "import torch\n",
        "import openvino.runtime as ov\n",
        "from pathlib import Path\n",
        "\n",
        "# Load your PyTorch model\n",
        "model = Net()  # Assuming 'Net' is your model class\n",
        "model.load_state_dict(torch.load('lipophilicity_model.pth'))\n",
        "model.eval()\n",
        "\n"
      ],
      "metadata": {
        "id": "oFdQFa8zf_6z"
      },
      "execution_count": null,
      "outputs": []
    },
    {
      "cell_type": "code",
      "source": [
        "pip install onnx"
      ],
      "metadata": {
        "id": "gVIMAkEhgWNN"
      },
      "execution_count": null,
      "outputs": []
    },
    {
      "cell_type": "code",
      "source": [
        "import torch.onnx\n",
        "\n",
        "dummy_input = torch.randn(1, 2048)  # Adjust the size according to your model input\n",
        "torch.onnx.export(model, dummy_input, \"model.onnx\", opset_version=11)\n"
      ],
      "metadata": {
        "id": "Lvf6n0UAgIAz"
      },
      "execution_count": null,
      "outputs": []
    },
    {
      "cell_type": "code",
      "source": [
        "# Create OpenVINO Core object instance\n",
        "core = ov.Core()\n",
        "\n",
        "# Read the ONNX model\n",
        "ov_model = core.read_model(\"model.onnx\")\n",
        "\n",
        "# (Optional) Perform any necessary optimizations\n",
        "compiled_model = core.compile_model(ov_model, \"CPU\")\n"
      ],
      "metadata": {
        "id": "Ip-0k89dgd0B"
      },
      "execution_count": null,
      "outputs": []
    },
    {
      "cell_type": "code",
      "source": [
        "MODEL_DIR = '/content/sample_data'  # Specify your directory as a string\n",
        "MODEL_NAME = \"lipophilicity_openvino\"\n",
        "\n",
        "# Ensure that `ov_model` is the original OpenVINO model object\n",
        "# Save the OpenVINO model to disk\n",
        "ov.save_model(ov_model, MODEL_DIR + \"/\" + f\"{MODEL_NAME}.xml\")\n"
      ],
      "metadata": {
        "id": "PCHlkEt6hlQn"
      },
      "execution_count": null,
      "outputs": []
    },
    {
      "cell_type": "code",
      "source": [
        "import ipywidgets as widgets\n",
        "\n",
        "device = widgets.Dropdown(\n",
        "    options=core.available_devices + [\"AUTO\"],\n",
        "    value='AUTO',\n",
        "    description='Device:',\n",
        "    disabled=False,\n",
        ")\n",
        "\n",
        "device"
      ],
      "metadata": {
        "id": "lxdQVqsDiFdX"
      },
      "execution_count": null,
      "outputs": []
    },
    {
      "cell_type": "code",
      "source": [
        "# Load OpenVINO model on device\n",
        "compiled_model = core.compile_model(ov_model, device.value)\n",
        "compiled_model"
      ],
      "metadata": {
        "id": "vC4WF0cpiHtR"
      },
      "execution_count": null,
      "outputs": []
    },
    {
      "cell_type": "code",
      "source": [
        "# Assuming you have a function to convert SMILES to fingerprints\n",
        "def smiles_to_fp(smiles, n_bits=2048):\n",
        "    mol = Chem.MolFromSmiles(smiles)\n",
        "    fp = AllChem.GetMorganFingerprintAsBitVect(mol, radius=2, nBits=n_bits)\n",
        "    return np.array(fp)\n",
        "\n",
        "# Example SMILES string\n",
        "smiles = \"C[C@H](N)C(=O)O\"  # Replace with your SMILES string\n",
        "\n",
        "# Prepare input tensor\n",
        "fp = smiles_to_fp(smiles)\n",
        "input_tensor = torch.tensor(fp, dtype=torch.float32).unsqueeze(0)  # Adding batch dimension\n",
        "\n",
        "# Convert PyTorch tensor to NumPy array\n",
        "input_numpy = input_tensor.numpy()\n",
        "\n",
        "# Create OpenVINO tensor from NumPy array\n",
        "ov_input_tensor = ov.Tensor(input_numpy)\n",
        "\n",
        "# Run model inference\n",
        "result = compiled_model([ov_input_tensor])[0]\n",
        "\n",
        "# Postprocess and display the result\n",
        "predicted_lipophilicity = result[0]  # Assuming the model outputs a single value\n",
        "print(f\"Predicted Lipophilicity: {predicted_lipophilicity}\")\n"
      ],
      "metadata": {
        "id": "0ZTZbTLZjWtz"
      },
      "execution_count": null,
      "outputs": []
    },
    {
      "cell_type": "code",
      "source": [
        "from rdkit import Chem\n",
        "from rdkit.Chem import Draw\n",
        "import numpy as np\n",
        "import torch\n",
        "import openvino.runtime as ov\n",
        "\n",
        "# Load your PyTorch model (assuming it's already trained and saved)\n",
        "model = Net()  # Replace with your model class\n",
        "model.load_state_dict(torch.load('lipophilicity_model.pth'))\n",
        "model.eval()\n",
        "\n",
        "# OpenVINO setup (assuming you have already converted your model)\n",
        "core = ov.Core()\n",
        "ov_model = core.read_model('/content/sample_data/lipophilicity_openvino.xml')\n",
        "compiled_model = core.compile_model(ov_model, \"CPU\")\n",
        "\n",
        "def predict_and_visualize(smiles):\n",
        "    # Convert SMILES to fingerprint\n",
        "    fp = smiles_to_fp(smiles)\n",
        "    input_tensor = torch.tensor(fp, dtype=torch.float32).unsqueeze(0)\n",
        "    input_numpy = input_tensor.numpy()\n",
        "\n",
        "    # Create OpenVINO tensor\n",
        "    ov_input_tensor = ov.Tensor(input_numpy)\n",
        "\n",
        "    # Run model inference\n",
        "    result = compiled_model([ov_input_tensor])[0]\n",
        "    predicted_lipophilicity = result[0]\n",
        "\n",
        "    # Visualize molecule\n",
        "    mol = Chem.MolFromSmiles(smiles)\n",
        "    img = Draw.MolToImage(mol)\n",
        "\n",
        "    return predicted_lipophilicity, img\n",
        "\n",
        "# Example usage\n",
        "smiles_list = [\"C[C@H](N)C(=O)O\", \"CCO\", \"CCN(CC)CC\"]  # Replace with your SMILES strings\n",
        "for smiles in smiles_list:\n",
        "    lipophilicity, img = predict_and_visualize(smiles)\n",
        "    print(f\"SMILES: {smiles}, Predicted Lipophilicity: {lipophilicity}\")\n",
        "    display(img)\n"
      ],
      "metadata": {
        "id": "vgR6f9CskTmF"
      },
      "execution_count": null,
      "outputs": []
    }
  ]
}